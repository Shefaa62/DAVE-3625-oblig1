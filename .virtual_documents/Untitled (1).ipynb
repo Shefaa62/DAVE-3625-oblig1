# Importer nødvendige biblioteker
import pandas as pd
import os

# Sjekk nåværende arbeidskatalog
print("Nåværende arbeidskatalog:", os.getcwd())

# Prøv å lese inn datasettet
try:
    # Last inn datasettet, endre filbanen hvis nødvendig
    df = pd.read_csv('Grocery_dataset.csv')
    print("Datasettet ble lastet inn riktig.")
except FileNotFoundError:
    print("Filen 'Grocery_dataset.csv' ble ikke funnet. Vennligst sjekk filbanen.")

# Hvis filen ble lastet inn riktig, fortsett med oppgavene
if 'df' in locals():  # Sjekk om df eksisterer
    # Oppgave 5: Fjern kolonnene med indeksverdier 0 og 6 og opprett en ny DataFrame
    columns_to_drop = [0, 6]
    Grc_new_df = df.drop(df.columns[columns_to_drop], axis=1)

    # Skriv ut de første radene for å bekrefte at kolonnene er fjernet
    print("Grc_new_df after dropping columns with index 0 and 6:")
    print(Grc_new_df.head())

 # Oppgave 6: Lag to forskjellige DataFrames basert på Outlet_Type
    SupType_1 = Grc_new_df[Grc_new_df['Outlet_Type'] == 'Supermarket Type1']
    SupType_2 = Grc_new_df[Grc_new_df['Outlet_Type'] == 'Supermarket Type2']

    # Skriv ut de første radene for hver DataFrame for å bekrefte
    print("\nSupType_1 DataFrame:")
    print(SupType_1.head())

    print("\nSupType_2 DataFrame:")
    print(SupType_2.head())
else:
    print("Kjøring av koden ble stoppet fordi datasettet ikke ble funnet.")





